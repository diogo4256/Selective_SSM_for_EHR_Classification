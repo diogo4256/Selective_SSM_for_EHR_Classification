{
 "cells": [
  {
   "cell_type": "markdown",
   "metadata": {},
   "source": [
    "# Import Required Libraries\n",
    "Import the necessary libraries, including torch, numpy, pandas, and the custom modules for preprocessing and model definition."
   ]
  },
  {
   "cell_type": "markdown",
   "metadata": {},
   "source": [
    "Create a new conda environment with python version 3.9.19 and then run the following cells."
   ]
  },
  {
   "cell_type": "code",
   "execution_count": null,
   "metadata": {},
   "outputs": [],
   "source": [
    "%pip install --extra-index-url https://download.pytorch.org/whl/cu118 torch==2.2.0 numpy==1.25.1 tqdm==4.66.2 pandas==1.1.4 h5py==3.12.1 matplotlib==3.8.2 matplotlib-inline==0.1.7 click==8.1.7 scikit-learn==0.24.2 x-transformers==1.16.23 seaborn\n",
    "%pip install --extra-index-url https://data.pyg.org/whl/torch-2.2.0+cu118.html torch_scatter "
   ]
  },
  {
   "cell_type": "code",
   "execution_count": null,
   "metadata": {},
   "outputs": [],
   "source": [
    "\n",
    "%pip install torch_scatter --extra-index-url https://data.pyg.org/whl/torch-2.2.0+cu118.html\n",
    "%pip install transformers\n"
   ]
  },
  {
   "cell_type": "code",
   "execution_count": 17,
   "metadata": {},
   "outputs": [],
   "source": [
    "# Import Required Libraries\n",
    "import torch\n",
    "import numpy as np\n",
    "import pandas as pd\n",
    "import os\n",
    "import json\n",
    "import random\n",
    "import h5py\n",
    "import tqdm\n",
    "from torch.utils.data import Dataset, DataLoader\n",
    "from sklearn import metrics\n",
    "import matplotlib.pyplot as plt\n",
    "from mortality_part_preprocessing import load_pad_separate, PairedDataset, MortalityDataset\n",
    "from mortality_classification import train_test\n",
    "from models.mamba import EncoderClassifierMamba\n",
    "from sklearn.model_selection import train_test_split\n",
    "from sklearn.preprocessing import StandardScaler\n",
    "import tarfile\n"
   ]
  },
  {
   "cell_type": "markdown",
   "metadata": {},
   "source": [
    "# Load and Preprocess the Physionet Dataset\n",
    "Load the Physionet dataset and preprocess it using the provided preprocessing functions."
   ]
  },
  {
   "cell_type": "code",
   "execution_count": 18,
   "metadata": {},
   "outputs": [
    {
     "name": "stdout",
     "output_type": "stream",
     "text": [
      "Preprocessed files not found. Preprocessing the dataset...\n",
      "Loading dataset\n",
      "Preprocessing dataset\n"
     ]
    },
    {
     "name": "stderr",
     "output_type": "stream",
     "text": [
      "100%|██████████| 9590/9590 [00:22<00:00, 421.82it/s]\n"
     ]
    },
    {
     "name": "stdout",
     "output_type": "stream",
     "text": [
      "shape of active data = torch.Size([9590, 37, 215])\n",
      "shape of time data = torch.Size([9590, 215])\n",
      "shape of static data = torch.Size([9590, 8])\n",
      "Preprocessing dataset\n"
     ]
    },
    {
     "name": "stderr",
     "output_type": "stream",
     "text": [
      "100%|██████████| 9590/9590 [00:21<00:00, 438.20it/s]\n"
     ]
    },
    {
     "name": "stdout",
     "output_type": "stream",
     "text": [
      "shape of active data = torch.Size([9590, 37, 215])\n",
      "shape of time data = torch.Size([9590, 215])\n",
      "shape of static data = torch.Size([9590, 8])\n",
      "Preprocessing dataset\n"
     ]
    },
    {
     "name": "stderr",
     "output_type": "stream",
     "text": [
      "100%|██████████| 1199/1199 [00:02<00:00, 443.20it/s]\n"
     ]
    },
    {
     "name": "stdout",
     "output_type": "stream",
     "text": [
      "shape of active data = torch.Size([1199, 37, 215])\n",
      "shape of time data = torch.Size([1199, 215])\n",
      "shape of static data = torch.Size([1199, 8])\n",
      "Preprocessing dataset\n"
     ]
    },
    {
     "name": "stderr",
     "output_type": "stream",
     "text": [
      "100%|██████████| 1199/1199 [00:02<00:00, 456.45it/s]\n"
     ]
    },
    {
     "name": "stdout",
     "output_type": "stream",
     "text": [
      "shape of active data = torch.Size([1199, 37, 215])\n",
      "shape of time data = torch.Size([1199, 215])\n",
      "shape of static data = torch.Size([1199, 8])\n",
      "shape of active data = torch.Size([1342, 37, 215])\n",
      "shape of time data = torch.Size([1342, 215])\n",
      "shape of static data = torch.Size([1342, 8])\n",
      "shape of labels = torch.Size([1342])\n",
      "shape of active data = torch.Size([8248, 37, 215])\n",
      "shape of time data = torch.Size([8248, 215])\n",
      "shape of static data = torch.Size([8248, 8])\n",
      "shape of labels = torch.Size([8248])\n",
      "Saving datasets to ./processed_datasets\n",
      "Training pairs: 4026\n",
      "Validation data: 1199\n",
      "Test data: 1199\n"
     ]
    }
   ],
   "source": [
    "\n",
    "# Define a custom dataset class for PhysioNet 2012\n",
    "class PhysioNet2012Dataset(Dataset):\n",
    "    def __init__(self, data, labels):\n",
    "        self.data = data\n",
    "        self.labels = labels\n",
    "\n",
    "    def __len__(self):\n",
    "        return len(self.data)\n",
    "\n",
    "    def __getitem__(self, idx):\n",
    "        return self.data[idx], self.labels[idx]\n",
    "    \n",
    "# Load and preprocess the PhysioNet 2012 dataset\n",
    "def load_physionet2012(base_path, split_index):\n",
    "    train_data = np.load(os.path.join(base_path, f\"train_physionet2012_{split_index}.npy\"), allow_pickle=True)\n",
    "    val_data = np.load(os.path.join(base_path, f\"validation_physionet2012_{split_index}.npy\"), allow_pickle=True)\n",
    "    test_data = np.load(os.path.join(base_path, f\"test_physionet2012_{split_index}.npy\"), allow_pickle=True)\n",
    "    return train_data, val_data, test_data\n",
    "\n",
    "# Define the dataset ID and base path\n",
    "dataset_id = \"physionet2012\"\n",
    "data_path = \"./P12data/\"\n",
    "# Unzip the P12Data_1.tar.gz file\n",
    "with tarfile.open(data_path+\"P12Data_1.tar.gz\", \"r:gz\") as tar:\n",
    "    tar.extractall(path=data_path)\n",
    "\n",
    "base_path = \"./P12data/split_1\"\n",
    "\n",
    "\n",
    "# Load and preprocess the dataset\n",
    "train_pair, val_data, test_data = load_pad_separate(dataset_id, base_path, split_index=1)\n",
    "\n",
    "# Display the shapes of the datasets\n",
    "print(f\"Training pairs: {len(train_pair)}\")\n",
    "print(f\"Validation data: {len(val_data)}\")\n",
    "print(f\"Test data: {len(test_data)}\")"
   ]
  },
  {
   "cell_type": "markdown",
   "metadata": {},
   "source": [
    "# Define the Mamba Model\n",
    "Define the Mamba model architecture using the provided Mamba model class."
   ]
  },
  {
   "cell_type": "code",
   "execution_count": 19,
   "metadata": {},
   "outputs": [
    {
     "name": "stdout",
     "output_type": "stream",
     "text": [
      "EncoderClassifierMamba(\n",
      "  (mamba_model): Mamba2ForCausalLM(\n",
      "    (backbone): Mamba2Model(\n",
      "      (embeddings): Embedding(0, 256)\n",
      "      (layers): ModuleList(\n",
      "        (0-2): 3 x Mamba2Block(\n",
      "          (norm): Mamba2RMSNorm()\n",
      "          (mixer): Mamba2Mixer(\n",
      "            (act): SiLU()\n",
      "            (conv1d): Conv1d(384, 384, kernel_size=(4,), stride=(1,), padding=(3,), groups=384)\n",
      "            (in_proj): Linear(in_features=256, out_features=641, bias=False)\n",
      "            (norm): MambaRMSNormGated()\n",
      "            (out_proj): Linear(in_features=256, out_features=256, bias=False)\n",
      "          )\n",
      "        )\n",
      "      )\n",
      "      (norm_f): Mamba2RMSNorm()\n",
      "    )\n",
      "    (lm_head): Linear(in_features=256, out_features=0, bias=False)\n",
      "  )\n",
      "  (sensor_embedding): Linear(in_features=74, out_features=256, bias=True)\n",
      "  (static_embedding): Linear(in_features=8, out_features=8, bias=True)\n",
      "  (nonlinear_merger): Linear(in_features=264, out_features=264, bias=True)\n",
      "  (classifier): Linear(in_features=264, out_features=2, bias=True)\n",
      "  (time_encoding): Linear(in_features=1, out_features=256, bias=True)\n",
      ")\n"
     ]
    }
   ],
   "source": [
    "# Define the Mamba Model\n",
    "\n",
    "# Define the Mamba model architecture using the provided Mamba model class\n",
    "device = torch.device(\"cuda\" if torch.cuda.is_available() else \"cpu\")\n",
    "\n",
    "# Initialize the Mamba model with the specified parameters\n",
    "mamba_model = EncoderClassifierMamba(\n",
    "    device=device,\n",
    "    pooling=\"mean\",\n",
    "    num_classes=2,\n",
    "    sensors_count=37,\n",
    "    static_count=8,\n",
    "    layers=3,\n",
    "    d_model=256,\n",
    "    ssm_state_size=64,\n",
    "    expand_factor=1,\n",
    "    dropout=0.2\n",
    ").to(device)\n",
    "\n",
    "# Print the model architecture\n",
    "print(mamba_model)"
   ]
  },
  {
   "cell_type": "markdown",
   "metadata": {},
   "source": [
    "# Train the Mamba Model\n",
    "Train the Mamba model for a few epochs to demonstrate the training process."
   ]
  },
  {
   "cell_type": "code",
   "execution_count": 20,
   "metadata": {},
   "outputs": [],
   "source": [
    "# Train the Mamba Model\n",
    "\n",
    "# Define training parameters\n",
    "output_path = \"./ehr_classification_results/\"\n",
    "epochs = 1  # Train for a few epochs to demonstrate the training process\n",
    "batch_size = 64\n",
    "lr = 0.001\n",
    "patience = 2\n",
    "early_stop_criteria = \"f1-score\"\n",
    "loss_function = \"bce_with_logits\""
   ]
  },
  {
   "cell_type": "code",
   "execution_count": 21,
   "metadata": {},
   "outputs": [
    {
     "name": "stdout",
     "output_type": "stream",
     "text": [
      "# of trainable parameters: 1018798\n"
     ]
    },
    {
     "name": "stderr",
     "output_type": "stream",
     "text": [
      "100%|██████████| 126/126 [25:20<00:00, 12.07s/it]\n"
     ]
    },
    {
     "name": "stdout",
     "output_type": "stream",
     "text": [
      "Epoch: 1, Train Loss: 0.8663883767430745, Val Loss: 0.515946090221405\n",
      "Validation loss decreased (inf --> 0.596708).  Saving model ...\n"
     ]
    },
    {
     "name": "stderr",
     "output_type": "stream",
     "text": [
      "/Users/maxbrazhnyy/Downloads/Selective_SSM_for_EHR_Classification-main/.conda/lib/python3.9/site-packages/torch/utils/data/dataloader.py:558: UserWarning: This DataLoader will create 16 worker processes in total. Our suggested max number of worker in current system is 8 (`cpuset` is not taken into account), which is smaller than what this DataLoader is going to create. Please be aware that excessive worker creation might get DataLoader running slow or even freeze, lower the worker number to avoid potential slowness/freeze if necessary.\n",
      "  warnings.warn(_create_warning_msg(\n"
     ]
    },
    {
     "name": "stdout",
     "output_type": "stream",
     "text": [
      "Test Loss: 0.49822938442230225\n",
      "{'0': {'precision': 0.9355555555555556, 'recall': 0.8190661478599222, 'f1-score': 0.8734439834024897, 'support': 1028}, '1': {'precision': 0.3779264214046823, 'recall': 0.6608187134502924, 'f1-score': 0.4808510638297872, 'support': 171}, 'accuracy': 0.7964970809007507, 'macro avg': {'precision': 0.656740988480119, 'recall': 0.7399424306551072, 'f1-score': 0.6771475236161385, 'support': 1199}, 'weighted avg': {'precision': 0.8560271302513026, 'recall': 0.7964970809007507, 'f1-score': 0.8174528330714371, 'support': 1199}}\n",
      "[[842 186]\n",
      " [ 58 113]]\n",
      "Accuracy = 0.7964970809007507\n",
      "AUPRC = 0.45474723074989554\n",
      "AUROC = 0.8228491137051448\n",
      "F1_Score = 0.4808510638297872\n",
      "Training completed with the following results:\n",
      "Loss: 0.49822938442230225\n",
      "Accuracy: 0.7964970809007507\n",
      "AUPRC: 0.45474723074989554\n",
      "AUROC: 0.8228491137051448\n",
      "F1 Score: 0.4808510638297872\n"
     ]
    }
   ],
   "source": [
    "\n",
    "\n",
    "# Ensure the output directory exists\n",
    "if not os.path.exists(output_path):\n",
    "    os.makedirs(output_path)\n",
    "\n",
    "# Train the Mamba model\n",
    "loss, accuracy_score, auprc_score, auc_score, f1_score = train_test(\n",
    "    train_pair=train_pair,\n",
    "    val_data=val_data,\n",
    "    test_data=test_data,\n",
    "    output_path=output_path,\n",
    "    model_type=\"mamba\",\n",
    "    model_args={\n",
    "        \"pooling\": \"mean\",\n",
    "        \"layers\": 4,\n",
    "        \"mamba_d_model\": 256,\n",
    "        \"mamba_state_size\": 64,\n",
    "        \"mamba_expand_factor\": 1,\n",
    "        \"dropout\": 0.2\n",
    "    },\n",
    "    batch_size=batch_size,\n",
    "    epochs=epochs,\n",
    "    lr=lr,\n",
    "    patience=patience,\n",
    "    early_stop_criteria=early_stop_criteria,\n",
    "    loss_function=loss_function\n",
    ")\n",
    "\n",
    "# Display the training results\n",
    "print(f\"Training completed with the following results:\")\n",
    "print(f\"Loss: {loss}\")\n",
    "print(f\"Accuracy: {accuracy_score}\")\n",
    "print(f\"AUPRC: {auprc_score}\")\n",
    "print(f\"AUROC: {auc_score}\")\n",
    "print(f\"F1 Score: {f1_score}\")"
   ]
  },
  {
   "cell_type": "markdown",
   "metadata": {},
   "source": [
    "# Evaluate the Mamba Model\n",
    "Evaluate the trained Mamba model on the test dataset and display the results."
   ]
  },
  {
   "cell_type": "code",
   "execution_count": 23,
   "metadata": {},
   "outputs": [
    {
     "name": "stderr",
     "output_type": "stream",
     "text": [
      "/Users/maxbrazhnyy/Downloads/Selective_SSM_for_EHR_Classification-main/.conda/lib/python3.9/site-packages/torch/utils/data/dataloader.py:558: UserWarning: This DataLoader will create 16 worker processes in total. Our suggested max number of worker in current system is 8 (`cpuset` is not taken into account), which is smaller than what this DataLoader is going to create. Please be aware that excessive worker creation might get DataLoader running slow or even freeze, lower the worker number to avoid potential slowness/freeze if necessary.\n",
      "  warnings.warn(_create_warning_msg(\n",
      "100%|██████████| 19/19 [03:16<00:00, 10.37s/it]\n"
     ]
    }
   ],
   "source": [
    "# Evaluate the Mamba Model\n",
    "\n",
    "# Load the best model from the training process\n",
    "mamba_model.load_state_dict(torch.load(f\"{output_path}checkpoint.pt\", map_location=torch.device('cpu')), strict=False)\n",
    "\n",
    "# Set the model to evaluation mode\n",
    "mamba_model.eval()\n",
    "\n",
    "# Create a DataLoader for the test dataset\n",
    "test_dataloader = DataLoader(test_data, batch_size=batch_size, shuffle=False, num_workers=16, collate_fn=MortalityDataset.non_pair_collate_fn_truncate, pin_memory=True)\n",
    "\n",
    "# Initialize lists to store the true labels and predictions\n",
    "true_labels = []\n",
    "predictions = []\n",
    "all_probs = []\n",
    "\n",
    "# Evaluate the model on the test dataset\n",
    "with torch.no_grad():\n",
    "    for batch in tqdm.tqdm(test_dataloader, total=len(test_dataloader)):\n",
    "        data, times, static, labels, mask, delta = batch\n",
    "        data, times, static, mask, delta = data.to(device), times.to(device), static.to(device), mask.to(device), delta.to(device)\n",
    "        \n",
    "        # Get model predictions\n",
    "        outputs = mamba_model(x=data, static=static, time=times, sensor_mask=mask)\n",
    "        probs = torch.nn.functional.softmax(outputs, dim=1)\n",
    "        predicted_labels = torch.argmax(probs, dim=1)\n",
    "        \n",
    "        # Store the true labels, predictions, and probabilities\n",
    "        true_labels.extend(labels.cpu().numpy())\n",
    "        predictions.extend(predicted_labels.cpu().numpy())\n",
    "        all_probs.extend(probs.cpu().numpy())\n",
    "\n",
    "# Convert all_probs to a numpy array\n",
    "all_probs = np.array(all_probs)\n",
    "\n",
    "# Ensure the lengths of true_labels and all_probs match\n",
    "assert len(true_labels) == len(all_probs), f\"Length mismatch: {len(true_labels)} true labels vs {len(all_probs)} probabilities\"\n",
    "\n",
    "\n"
   ]
  },
  {
   "cell_type": "code",
   "execution_count": 26,
   "metadata": {},
   "outputs": [
    {
     "name": "stdout",
     "output_type": "stream",
     "text": [
      "Evaluation Results:\n",
      "Accuracy: 0.7964970809007507\n",
      "AUROC: 0.8228491137051448\n",
      "AUPRC: 0.45474723074989554\n",
      "F1 Score: 0.4808510638297872\n"
     ]
    },
    {
     "data": {
      "image/png": "[encoded data removed]",
      "text/plain": [
       "<Figure size 1000x700 with 2 Axes>"
      ]
     },
     "metadata": {},
     "output_type": "display_data"
    }
   ],
   "source": [
    "import seaborn as sns\n",
    "\n",
    "# Calculate evaluation metrics\n",
    "accuracy = metrics.accuracy_score(true_labels, predictions)\n",
    "auroc = metrics.roc_auc_score(true_labels, all_probs[:, 1])\n",
    "auprc = metrics.average_precision_score(true_labels, all_probs[:, 1])\n",
    "f1 = metrics.f1_score(true_labels, predictions)\n",
    "\n",
    "# Display the evaluation results\n",
    "print(f\"Evaluation Results:\")\n",
    "print(f\"Accuracy: {accuracy}\")\n",
    "print(f\"AUROC: {auroc}\")\n",
    "print(f\"AUPRC: {auprc}\")\n",
    "print(f\"F1 Score: {f1}\")\n",
    "\n",
    "# Plot the confusion matrix\n",
    "confusion_matrix = metrics.confusion_matrix(true_labels, predictions)\n",
    "plt.figure(figsize=(10, 7))\n",
    "sns.heatmap(confusion_matrix, annot=True, fmt='d', cmap='Blues')\n",
    "plt.xlabel(\"Predicted\")\n",
    "plt.ylabel(\"True\")\n",
    "plt.title(\"Confusion Matrix\")\n",
    "plt.show()"
   ]
  }
 ],
 "metadata": {
  "kernelspec": {
   "display_name": "Python 3",
   "language": "python",
   "name": "python3"
  },
  "language_info": {
   "codemirror_mode": {
    "name": "ipython",
    "version": 3
   },
   "file_extension": ".py",
   "mimetype": "text/x-python",
   "name": "python",
   "nbconvert_exporter": "python",
   "pygments_lexer": "ipython3",
   "version": "3.9.21"
  }
 },
 "nbformat": 4,
 "nbformat_minor": 2
}
