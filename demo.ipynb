{
 "cells": [
  {
   "cell_type": "markdown",
   "metadata": {},
   "source": [
    "# Import Required Libraries\n",
    "Import the necessary libraries, including torch, numpy, pandas, and the custom modules for preprocessing and model definition."
   ]
  },
  {
   "cell_type": "code",
   "execution_count": 1,
   "metadata": {},
   "outputs": [
    {
     "name": "stdout",
     "output_type": "stream",
     "text": [
      "Looking in indexes: https://pypi.org/simple, https://download.pytorch.org/whl/cu118\n",
      "Requirement already satisfied: torch==2.2.0 in ./.venv/lib/python3.9/site-packages (2.2.0)\n",
      "Requirement already satisfied: numpy==1.25.1 in ./.venv/lib/python3.9/site-packages (1.25.1)\n",
      "Requirement already satisfied: tqdm==4.66.2 in ./.venv/lib/python3.9/site-packages (4.66.2)\n",
      "Requirement already satisfied: pandas==1.1.4 in ./.venv/lib/python3.9/site-packages (1.1.4)\n",
      "Requirement already satisfied: h5py==3.12.1 in ./.venv/lib/python3.9/site-packages (3.12.1)\n",
      "Requirement already satisfied: matplotlib==3.8.2 in ./.venv/lib/python3.9/site-packages (3.8.2)\n",
      "Requirement already satisfied: matplotlib-inline==0.1.7 in ./.venv/lib/python3.9/site-packages (0.1.7)\n",
      "Requirement already satisfied: click==8.1.7 in ./.venv/lib/python3.9/site-packages (8.1.7)\n",
      "Requirement already satisfied: scikit-learn==0.24.2 in ./.venv/lib/python3.9/site-packages (0.24.2)\n",
      "Requirement already satisfied: x-transformers==1.16.23 in ./.venv/lib/python3.9/site-packages (1.16.23)\n",
      "Requirement already satisfied: filelock in ./.venv/lib/python3.9/site-packages (from torch==2.2.0) (3.16.1)\n",
      "Requirement already satisfied: typing-extensions>=4.8.0 in ./.venv/lib/python3.9/site-packages (from torch==2.2.0) (4.12.2)\n",
      "Requirement already satisfied: sympy in ./.venv/lib/python3.9/site-packages (from torch==2.2.0) (1.13.3)\n",
      "Requirement already satisfied: networkx in ./.venv/lib/python3.9/site-packages (from torch==2.2.0) (3.2.1)\n",
      "Requirement already satisfied: jinja2 in ./.venv/lib/python3.9/site-packages (from torch==2.2.0) (3.1.4)\n",
      "Requirement already satisfied: fsspec in ./.venv/lib/python3.9/site-packages (from torch==2.2.0) (2024.10.0)\n",
      "Requirement already satisfied: python-dateutil>=2.7.3 in ./.venv/lib/python3.9/site-packages (from pandas==1.1.4) (2.9.0.post0)\n",
      "Requirement already satisfied: pytz>=2017.2 in ./.venv/lib/python3.9/site-packages (from pandas==1.1.4) (2024.2)\n",
      "Requirement already satisfied: contourpy>=1.0.1 in ./.venv/lib/python3.9/site-packages (from matplotlib==3.8.2) (1.3.0)\n",
      "Requirement already satisfied: cycler>=0.10 in ./.venv/lib/python3.9/site-packages (from matplotlib==3.8.2) (0.12.1)\n",
      "Requirement already satisfied: fonttools>=4.22.0 in ./.venv/lib/python3.9/site-packages (from matplotlib==3.8.2) (4.54.1)\n",
      "Requirement already satisfied: kiwisolver>=1.3.1 in ./.venv/lib/python3.9/site-packages (from matplotlib==3.8.2) (1.4.7)\n",
      "Requirement already satisfied: packaging>=20.0 in ./.venv/lib/python3.9/site-packages (from matplotlib==3.8.2) (24.2)\n",
      "Requirement already satisfied: pillow>=8 in ./.venv/lib/python3.9/site-packages (from matplotlib==3.8.2) (11.0.0)\n",
      "Requirement already satisfied: pyparsing>=2.3.1 in ./.venv/lib/python3.9/site-packages (from matplotlib==3.8.2) (3.2.0)\n",
      "Requirement already satisfied: importlib-resources>=3.2.0 in ./.venv/lib/python3.9/site-packages (from matplotlib==3.8.2) (6.4.5)\n",
      "Requirement already satisfied: traitlets in ./.venv/lib/python3.9/site-packages (from matplotlib-inline==0.1.7) (5.14.3)\n",
      "Requirement already satisfied: scipy>=0.19.1 in ./.venv/lib/python3.9/site-packages (from scikit-learn==0.24.2) (1.13.1)\n",
      "Requirement already satisfied: joblib>=0.11 in ./.venv/lib/python3.9/site-packages (from scikit-learn==0.24.2) (1.4.2)\n",
      "Requirement already satisfied: threadpoolctl>=2.0.0 in ./.venv/lib/python3.9/site-packages (from scikit-learn==0.24.2) (3.5.0)\n",
      "Requirement already satisfied: einops>=0.6.1 in ./.venv/lib/python3.9/site-packages (from x-transformers==1.16.23) (0.8.0)\n",
      "Requirement already satisfied: zipp>=3.1.0 in ./.venv/lib/python3.9/site-packages (from importlib-resources>=3.2.0->matplotlib==3.8.2) (3.21.0)\n",
      "Requirement already satisfied: six>=1.5 in ./.venv/lib/python3.9/site-packages (from python-dateutil>=2.7.3->pandas==1.1.4) (1.16.0)\n",
      "Requirement already satisfied: MarkupSafe>=2.0 in ./.venv/lib/python3.9/site-packages (from jinja2->torch==2.2.0) (3.0.2)\n",
      "Requirement already satisfied: mpmath<1.4,>=1.1.0 in ./.venv/lib/python3.9/site-packages (from sympy->torch==2.2.0) (1.3.0)\n",
      "Note: you may need to restart the kernel to use updated packages.\n",
      "Looking in indexes: https://pypi.org/simple, https://data.pyg.org/whl/torch-2.2.0+cu118.html\n",
      "Collecting torch_scatter\n",
      "  Using cached torch_scatter-2.1.2.tar.gz (108 kB)\n",
      "  Installing build dependencies ... \u001b[?25ldone\n",
      "\u001b[?25h  Getting requirements to build wheel ... \u001b[?25lerror\n",
      "  \u001b[1;31merror\u001b[0m: \u001b[1msubprocess-exited-with-error\u001b[0m\n",
      "  \n",
      "  \u001b[31m×\u001b[0m \u001b[32mGetting requirements to build wheel\u001b[0m did not run successfully.\n",
      "  \u001b[31m│\u001b[0m exit code: \u001b[1;36m1\u001b[0m\n",
      "  \u001b[31m╰─>\u001b[0m \u001b[31m[17 lines of output]\u001b[0m\n",
      "  \u001b[31m   \u001b[0m Traceback (most recent call last):\n",
      "  \u001b[31m   \u001b[0m   File \"/Users/diogoadegas/Selective_SSM_for_EHR_Classification/.venv/lib/python3.9/site-packages/pip/_vendor/pyproject_hooks/_in_process/_in_process.py\", line 353, in <module>\n",
      "  \u001b[31m   \u001b[0m     main()\n",
      "  \u001b[31m   \u001b[0m   File \"/Users/diogoadegas/Selective_SSM_for_EHR_Classification/.venv/lib/python3.9/site-packages/pip/_vendor/pyproject_hooks/_in_process/_in_process.py\", line 335, in main\n",
      "  \u001b[31m   \u001b[0m     json_out['return_val'] = hook(**hook_input['kwargs'])\n",
      "  \u001b[31m   \u001b[0m   File \"/Users/diogoadegas/Selective_SSM_for_EHR_Classification/.venv/lib/python3.9/site-packages/pip/_vendor/pyproject_hooks/_in_process/_in_process.py\", line 118, in get_requires_for_build_wheel\n",
      "  \u001b[31m   \u001b[0m     return hook(config_settings)\n",
      "  \u001b[31m   \u001b[0m   File \"/private/var/folders/y5/d9b19xc55gs5_vz33s4l3b200000gn/T/pip-build-env-fverzirw/overlay/lib/python3.9/site-packages/setuptools/build_meta.py\", line 334, in get_requires_for_build_wheel\n",
      "  \u001b[31m   \u001b[0m     return self._get_build_requires(config_settings, requirements=[])\n",
      "  \u001b[31m   \u001b[0m   File \"/private/var/folders/y5/d9b19xc55gs5_vz33s4l3b200000gn/T/pip-build-env-fverzirw/overlay/lib/python3.9/site-packages/setuptools/build_meta.py\", line 304, in _get_build_requires\n",
      "  \u001b[31m   \u001b[0m     self.run_setup()\n",
      "  \u001b[31m   \u001b[0m   File \"/private/var/folders/y5/d9b19xc55gs5_vz33s4l3b200000gn/T/pip-build-env-fverzirw/overlay/lib/python3.9/site-packages/setuptools/build_meta.py\", line 522, in run_setup\n",
      "  \u001b[31m   \u001b[0m     super().run_setup(setup_script=setup_script)\n",
      "  \u001b[31m   \u001b[0m   File \"/private/var/folders/y5/d9b19xc55gs5_vz33s4l3b200000gn/T/pip-build-env-fverzirw/overlay/lib/python3.9/site-packages/setuptools/build_meta.py\", line 320, in run_setup\n",
      "  \u001b[31m   \u001b[0m     exec(code, locals())\n",
      "  \u001b[31m   \u001b[0m   File \"<string>\", line 8, in <module>\n",
      "  \u001b[31m   \u001b[0m ModuleNotFoundError: No module named 'torch'\n",
      "  \u001b[31m   \u001b[0m \u001b[31m[end of output]\u001b[0m\n",
      "  \n",
      "  \u001b[1;35mnote\u001b[0m: This error originates from a subprocess, and is likely not a problem with pip.\n",
      "\u001b[?25h\u001b[1;31merror\u001b[0m: \u001b[1msubprocess-exited-with-error\u001b[0m\n",
      "\n",
      "\u001b[31m×\u001b[0m \u001b[32mGetting requirements to build wheel\u001b[0m did not run successfully.\n",
      "\u001b[31m│\u001b[0m exit code: \u001b[1;36m1\u001b[0m\n",
      "\u001b[31m╰─>\u001b[0m See above for output.\n",
      "\n",
      "\u001b[1;35mnote\u001b[0m: This error originates from a subprocess, and is likely not a problem with pip.\n",
      "Note: you may need to restart the kernel to use updated packages.\n"
     ]
    }
   ],
   "source": [
    "%pip install --extra-index-url https://download.pytorch.org/whl/cu118 torch==2.2.0 numpy==1.25.1 tqdm==4.66.2 pandas==1.1.4 h5py==3.12.1 matplotlib==3.8.2 matplotlib-inline==0.1.7 click==8.1.7 scikit-learn==0.24.2 x-transformers==1.16.23\n",
    "%pip install --extra-index-url https://data.pyg.org/whl/torch-2.2.0+cu118.html torch_scatter "
   ]
  },
  {
   "cell_type": "code",
   "execution_count": 2,
   "metadata": {},
   "outputs": [
    {
     "name": "stdout",
     "output_type": "stream",
     "text": [
      "Looking in indexes: https://pypi.org/simple, https://data.pyg.org/whl/torch-2.2.0+cu118.html\n",
      "Collecting torch_scatter\n",
      "  Using cached torch_scatter-2.1.2.tar.gz (108 kB)\n",
      "  Installing build dependencies ... \u001b[?25ldone\n",
      "\u001b[?25h  Getting requirements to build wheel ... \u001b[?25lerror\n",
      "  \u001b[1;31merror\u001b[0m: \u001b[1msubprocess-exited-with-error\u001b[0m\n",
      "  \n",
      "  \u001b[31m×\u001b[0m \u001b[32mGetting requirements to build wheel\u001b[0m did not run successfully.\n",
      "  \u001b[31m│\u001b[0m exit code: \u001b[1;36m1\u001b[0m\n",
      "  \u001b[31m╰─>\u001b[0m \u001b[31m[17 lines of output]\u001b[0m\n",
      "  \u001b[31m   \u001b[0m Traceback (most recent call last):\n",
      "  \u001b[31m   \u001b[0m   File \"/Users/diogoadegas/Selective_SSM_for_EHR_Classification/.venv/lib/python3.9/site-packages/pip/_vendor/pyproject_hooks/_in_process/_in_process.py\", line 353, in <module>\n",
      "  \u001b[31m   \u001b[0m     main()\n",
      "  \u001b[31m   \u001b[0m   File \"/Users/diogoadegas/Selective_SSM_for_EHR_Classification/.venv/lib/python3.9/site-packages/pip/_vendor/pyproject_hooks/_in_process/_in_process.py\", line 335, in main\n",
      "  \u001b[31m   \u001b[0m     json_out['return_val'] = hook(**hook_input['kwargs'])\n",
      "  \u001b[31m   \u001b[0m   File \"/Users/diogoadegas/Selective_SSM_for_EHR_Classification/.venv/lib/python3.9/site-packages/pip/_vendor/pyproject_hooks/_in_process/_in_process.py\", line 118, in get_requires_for_build_wheel\n",
      "  \u001b[31m   \u001b[0m     return hook(config_settings)\n",
      "  \u001b[31m   \u001b[0m   File \"/private/var/folders/y5/d9b19xc55gs5_vz33s4l3b200000gn/T/pip-build-env-eto4c_8u/overlay/lib/python3.9/site-packages/setuptools/build_meta.py\", line 334, in get_requires_for_build_wheel\n",
      "  \u001b[31m   \u001b[0m     return self._get_build_requires(config_settings, requirements=[])\n",
      "  \u001b[31m   \u001b[0m   File \"/private/var/folders/y5/d9b19xc55gs5_vz33s4l3b200000gn/T/pip-build-env-eto4c_8u/overlay/lib/python3.9/site-packages/setuptools/build_meta.py\", line 304, in _get_build_requires\n",
      "  \u001b[31m   \u001b[0m     self.run_setup()\n",
      "  \u001b[31m   \u001b[0m   File \"/private/var/folders/y5/d9b19xc55gs5_vz33s4l3b200000gn/T/pip-build-env-eto4c_8u/overlay/lib/python3.9/site-packages/setuptools/build_meta.py\", line 522, in run_setup\n",
      "  \u001b[31m   \u001b[0m     super().run_setup(setup_script=setup_script)\n",
      "  \u001b[31m   \u001b[0m   File \"/private/var/folders/y5/d9b19xc55gs5_vz33s4l3b200000gn/T/pip-build-env-eto4c_8u/overlay/lib/python3.9/site-packages/setuptools/build_meta.py\", line 320, in run_setup\n",
      "  \u001b[31m   \u001b[0m     exec(code, locals())\n",
      "  \u001b[31m   \u001b[0m   File \"<string>\", line 8, in <module>\n",
      "  \u001b[31m   \u001b[0m ModuleNotFoundError: No module named 'torch'\n",
      "  \u001b[31m   \u001b[0m \u001b[31m[end of output]\u001b[0m\n",
      "  \n",
      "  \u001b[1;35mnote\u001b[0m: This error originates from a subprocess, and is likely not a problem with pip.\n",
      "\u001b[?25h\u001b[1;31merror\u001b[0m: \u001b[1msubprocess-exited-with-error\u001b[0m\n",
      "\n",
      "\u001b[31m×\u001b[0m \u001b[32mGetting requirements to build wheel\u001b[0m did not run successfully.\n",
      "\u001b[31m│\u001b[0m exit code: \u001b[1;36m1\u001b[0m\n",
      "\u001b[31m╰─>\u001b[0m See above for output.\n",
      "\n",
      "\u001b[1;35mnote\u001b[0m: This error originates from a subprocess, and is likely not a problem with pip.\n",
      "Note: you may need to restart the kernel to use updated packages.\n"
     ]
    }
   ],
   "source": [
    "\n",
    "%pip install torch_scatter --extra-index-url https://data.pyg.org/whl/torch-2.2.0+cu118.html\n",
    "# Import Required Libraries\n"
   ]
  },
  {
   "cell_type": "code",
   "execution_count": 3,
   "metadata": {},
   "outputs": [
    {
     "name": "stderr",
     "output_type": "stream",
     "text": [
      "/Users/diogoadegas/Selective_SSM_for_EHR_Classification/.venv/lib/python3.9/site-packages/urllib3/__init__.py:35: NotOpenSSLWarning: urllib3 v2 only supports OpenSSL 1.1.1+, currently the 'ssl' module is compiled with 'LibreSSL 2.8.3'. See: https://github.com/urllib3/urllib3/issues/3020\n",
      "  warnings.warn(\n",
      "/Users/diogoadegas/Selective_SSM_for_EHR_Classification/.venv/lib/python3.9/site-packages/tqdm/auto.py:21: TqdmWarning: IProgress not found. Please update jupyter and ipywidgets. See https://ipywidgets.readthedocs.io/en/stable/user_install.html\n",
      "  from .autonotebook import tqdm as notebook_tqdm\n"
     ]
    },
    {
     "ename": "ModuleNotFoundError",
     "evalue": "No module named 'torch_scatter'",
     "output_type": "error",
     "traceback": [
      "\u001b[0;31m---------------------------------------------------------------------------\u001b[0m",
      "\u001b[0;31mModuleNotFoundError\u001b[0m                       Traceback (most recent call last)",
      "Cell \u001b[0;32mIn[3], line 13\u001b[0m\n\u001b[1;32m     11\u001b[0m \u001b[38;5;28;01mimport\u001b[39;00m \u001b[38;5;21;01mmatplotlib\u001b[39;00m\u001b[38;5;21;01m.\u001b[39;00m\u001b[38;5;21;01mpyplot\u001b[39;00m \u001b[38;5;28;01mas\u001b[39;00m \u001b[38;5;21;01mplt\u001b[39;00m\n\u001b[1;32m     12\u001b[0m \u001b[38;5;28;01mfrom\u001b[39;00m \u001b[38;5;21;01mmortality_part_preprocessing\u001b[39;00m \u001b[38;5;28;01mimport\u001b[39;00m load_pad_separate, PairedDataset, MortalityDataset\n\u001b[0;32m---> 13\u001b[0m \u001b[38;5;28;01mfrom\u001b[39;00m \u001b[38;5;21;01mmortality_classification\u001b[39;00m \u001b[38;5;28;01mimport\u001b[39;00m train_test\n\u001b[1;32m     14\u001b[0m \u001b[38;5;28;01mfrom\u001b[39;00m \u001b[38;5;21;01mmodels\u001b[39;00m\u001b[38;5;21;01m.\u001b[39;00m\u001b[38;5;21;01mmamba\u001b[39;00m \u001b[38;5;28;01mimport\u001b[39;00m EncoderClassifierMamba\n\u001b[1;32m     15\u001b[0m \u001b[38;5;28;01mfrom\u001b[39;00m \u001b[38;5;21;01msklearn\u001b[39;00m\u001b[38;5;21;01m.\u001b[39;00m\u001b[38;5;21;01mmodel_selection\u001b[39;00m \u001b[38;5;28;01mimport\u001b[39;00m train_test_split\n",
      "File \u001b[0;32m~/Selective_SSM_for_EHR_Classification/mortality_classification.py:15\u001b[0m\n\u001b[1;32m     13\u001b[0m \u001b[38;5;28;01mfrom\u001b[39;00m \u001b[38;5;21;01mmodels\u001b[39;00m\u001b[38;5;21;01m.\u001b[39;00m\u001b[38;5;21;01mregular_transformer\u001b[39;00m \u001b[38;5;28;01mimport\u001b[39;00m EncoderClassifierRegular\n\u001b[1;32m     14\u001b[0m \u001b[38;5;28;01mfrom\u001b[39;00m \u001b[38;5;21;01mmodels\u001b[39;00m\u001b[38;5;21;01m.\u001b[39;00m\u001b[38;5;21;01mearly_stopper\u001b[39;00m \u001b[38;5;28;01mimport\u001b[39;00m EarlyStopping\n\u001b[0;32m---> 15\u001b[0m \u001b[38;5;28;01mfrom\u001b[39;00m \u001b[38;5;21;01mmodels\u001b[39;00m\u001b[38;5;21;01m.\u001b[39;00m\u001b[38;5;21;01mdeep_set_attention\u001b[39;00m \u001b[38;5;28;01mimport\u001b[39;00m DeepSetAttentionModel\n\u001b[1;32m     16\u001b[0m \u001b[38;5;28;01mfrom\u001b[39;00m \u001b[38;5;21;01mmodels\u001b[39;00m\u001b[38;5;21;01m.\u001b[39;00m\u001b[38;5;21;01mgrud\u001b[39;00m \u001b[38;5;28;01mimport\u001b[39;00m GRUDModel\n\u001b[1;32m     17\u001b[0m \u001b[38;5;28;01mfrom\u001b[39;00m \u001b[38;5;21;01mmodels\u001b[39;00m\u001b[38;5;21;01m.\u001b[39;00m\u001b[38;5;21;01mip_nets\u001b[39;00m \u001b[38;5;28;01mimport\u001b[39;00m InterpolationPredictionModel\n",
      "File \u001b[0;32m~/Selective_SSM_for_EHR_Classification/models/deep_set_attention.py:10\u001b[0m\n\u001b[1;32m      6\u001b[0m \u001b[38;5;28;01mimport\u001b[39;00m \u001b[38;5;21;01mmath\u001b[39;00m\n\u001b[1;32m      7\u001b[0m \u001b[38;5;28;01mfrom\u001b[39;00m \u001b[38;5;21;01mtorch\u001b[39;00m\u001b[38;5;21;01m.\u001b[39;00m\u001b[38;5;21;01mnn\u001b[39;00m\u001b[38;5;21;01m.\u001b[39;00m\u001b[38;5;21;01mutils\u001b[39;00m\u001b[38;5;21;01m.\u001b[39;00m\u001b[38;5;21;01mrnn\u001b[39;00m \u001b[38;5;28;01mimport\u001b[39;00m pad_sequence\n\u001b[0;32m---> 10\u001b[0m \u001b[38;5;28;01mfrom\u001b[39;00m \u001b[38;5;21;01mmodels\u001b[39;00m\u001b[38;5;21;01m.\u001b[39;00m\u001b[38;5;21;01mseft_utils\u001b[39;00m \u001b[38;5;28;01mimport\u001b[39;00m (\n\u001b[1;32m     11\u001b[0m     build_dense_dropout_model,\n\u001b[1;32m     12\u001b[0m     PaddedToSegments,\n\u001b[1;32m     13\u001b[0m     Segmentpooling,\n\u001b[1;32m     14\u001b[0m     cumulative_softmax_weighting,\n\u001b[1;32m     15\u001b[0m     segment_softmax,\n\u001b[1;32m     16\u001b[0m )\n\u001b[1;32m     18\u001b[0m dense_options \u001b[38;5;241m=\u001b[39m {\u001b[38;5;124m\"\u001b[39m\u001b[38;5;124mactivation\u001b[39m\u001b[38;5;124m\"\u001b[39m: \u001b[38;5;124m\"\u001b[39m\u001b[38;5;124mrelu\u001b[39m\u001b[38;5;124m\"\u001b[39m, \u001b[38;5;124m\"\u001b[39m\u001b[38;5;124mkernel_initializer\u001b[39m\u001b[38;5;124m\"\u001b[39m: \u001b[38;5;124m\"\u001b[39m\u001b[38;5;124mhe_uniform\u001b[39m\u001b[38;5;124m\"\u001b[39m}\n\u001b[1;32m     21\u001b[0m \u001b[38;5;28;01mclass\u001b[39;00m \u001b[38;5;21;01mPositionalEncodingTF\u001b[39;00m(nn\u001b[38;5;241m.\u001b[39mModule):\n",
      "File \u001b[0;32m~/Selective_SSM_for_EHR_Classification/models/seft_utils.py:6\u001b[0m\n\u001b[1;32m      3\u001b[0m \u001b[38;5;28;01mfrom\u001b[39;00m \u001b[38;5;21;01mtyping\u001b[39;00m \u001b[38;5;28;01mimport\u001b[39;00m Callable\n\u001b[1;32m      5\u001b[0m \u001b[38;5;28;01mimport\u001b[39;00m \u001b[38;5;21;01minspect\u001b[39;00m\n\u001b[0;32m----> 6\u001b[0m \u001b[38;5;28;01mimport\u001b[39;00m \u001b[38;5;21;01mtorch_scatter\u001b[39;00m\n\u001b[1;32m      9\u001b[0m \u001b[38;5;28;01mdef\u001b[39;00m \u001b[38;5;21msegment_softmax\u001b[39m(data, segment_ids, eps\u001b[38;5;241m=\u001b[39m\u001b[38;5;241m1e-7\u001b[39m):\n\u001b[1;32m     11\u001b[0m     max_values \u001b[38;5;241m=\u001b[39m torch_scatter\u001b[38;5;241m.\u001b[39mscatter_max(data, segment_ids, dim\u001b[38;5;241m=\u001b[39m\u001b[38;5;241m0\u001b[39m)[\u001b[38;5;241m0\u001b[39m]\n",
      "\u001b[0;31mModuleNotFoundError\u001b[0m: No module named 'torch_scatter'"
     ]
    }
   ],
   "source": [
    "\n",
    "import torch\n",
    "import numpy as np\n",
    "import pandas as pd\n",
    "import os\n",
    "import json\n",
    "import random\n",
    "import h5py\n",
    "import tqdm\n",
    "from torch.utils.data import Dataset, DataLoader\n",
    "from sklearn import metrics\n",
    "import matplotlib.pyplot as plt\n",
    "from mortality_part_preprocessing import load_pad_separate, PairedDataset, MortalityDataset\n",
    "from mortality_classification import train_test\n",
    "from models.mamba import EncoderClassifierMamba\n",
    "from sklearn.model_selection import train_test_split\n",
    "from sklearn.preprocessing import StandardScaler"
   ]
  },
  {
   "cell_type": "markdown",
   "metadata": {},
   "source": [
    "# Load and Preprocess the Physionet Dataset\n",
    "Load the Physionet dataset and preprocess it using the provided preprocessing functions."
   ]
  },
  {
   "cell_type": "code",
   "execution_count": 4,
   "metadata": {},
   "outputs": [
    {
     "name": "stdout",
     "output_type": "stream",
     "text": [
      "Loading preprocessed datasets from ./processed_datasets\n",
      "Loaded dataset from ./processed_datasets/physionet2012_1_pos.h5\n",
      "Loaded dataset from ./processed_datasets/physionet2012_1_neg.h5\n",
      "Loaded dataset from ./processed_datasets/physionet2012_1_val.h5\n",
      "Loaded dataset from ./processed_datasets/physionet2012_1_test.h5\n",
      "Training pairs: 4026\n",
      "Validation data: 1199\n",
      "Test data: 1199\n"
     ]
    }
   ],
   "source": [
    "# Define a custom dataset class for PhysioNet 2012\n",
    "class PhysioNet2012Dataset(Dataset):\n",
    "    def __init__(self, data, labels):\n",
    "        self.data = data\n",
    "        self.labels = labels\n",
    "\n",
    "    def __len__(self):\n",
    "        return len(self.data)\n",
    "\n",
    "    def __getitem__(self, idx):\n",
    "        return self.data[idx], self.labels[idx]\n",
    "    \n",
    "# Load and preprocess the PhysioNet 2012 dataset\n",
    "def load_physionet2012(base_path, split_index):\n",
    "    train_data = np.load(os.path.join(base_path, f\"train_physionet2012_{split_index}.npy\"), allow_pickle=True)\n",
    "    val_data = np.load(os.path.join(base_path, f\"validation_physionet2012_{split_index}.npy\"), allow_pickle=True)\n",
    "    test_data = np.load(os.path.join(base_path, f\"test_physionet2012_{split_index}.npy\"), allow_pickle=True)\n",
    "    return train_data, val_data, test_data\n",
    "\n",
    "# Define the dataset ID and base path\n",
    "dataset_id = \"physionet2012\"\n",
    "base_path = \"./P12data/split_1\"\n",
    "\n",
    "# Load and preprocess the dataset\n",
    "train_pair, val_data, test_data = load_pad_separate(dataset_id, base_path, split_index=1)\n",
    "\n",
    "# Display the shapes of the datasets\n",
    "print(f\"Training pairs: {len(train_pair)}\")\n",
    "print(f\"Validation data: {len(val_data)}\")\n",
    "print(f\"Test data: {len(test_data)}\")"
   ]
  },
  {
   "cell_type": "markdown",
   "metadata": {},
   "source": [
    "# Define the Mamba Model\n",
    "Define the Mamba model architecture using the provided Mamba model class."
   ]
  },
  {
   "cell_type": "code",
   "execution_count": 7,
   "metadata": {},
   "outputs": [
    {
     "name": "stderr",
     "output_type": "stream",
     "text": [
      "The fast path is not available because on of `(selective_state_update, causal_conv1d_fn, causal_conv1d_update)` is None. Falling back to the naive implementation. To install follow https://github.com/state-spaces/mamba/#installation and https://github.com/Dao-AILab/causal-conv1d\n"
     ]
    },
    {
     "name": "stdout",
     "output_type": "stream",
     "text": [
      "EncoderClassifierMamba(\n",
      "  (mamba_model): Mamba2ForCausalLM(\n",
      "    (backbone): Mamba2Model(\n",
      "      (embeddings): Embedding(0, 256)\n",
      "      (layers): ModuleList(\n",
      "        (0-2): 3 x Mamba2Block(\n",
      "          (norm): Mamba2RMSNorm()\n",
      "          (mixer): Mamba2Mixer(\n",
      "            (act): SiLU()\n",
      "            (conv1d): Conv1d(384, 384, kernel_size=(4,), stride=(1,), padding=(3,), groups=384)\n",
      "            (in_proj): Linear(in_features=256, out_features=641, bias=False)\n",
      "            (norm): MambaRMSNormGated()\n",
      "            (out_proj): Linear(in_features=256, out_features=256, bias=False)\n",
      "          )\n",
      "        )\n",
      "      )\n",
      "      (norm_f): Mamba2RMSNorm()\n",
      "    )\n",
      "    (lm_head): Linear(in_features=256, out_features=0, bias=False)\n",
      "  )\n",
      "  (sensor_embedding): Linear(in_features=74, out_features=256, bias=True)\n",
      "  (static_embedding): Linear(in_features=8, out_features=8, bias=True)\n",
      "  (nonlinear_merger): Linear(in_features=264, out_features=264, bias=True)\n",
      "  (classifier): Linear(in_features=264, out_features=2, bias=True)\n",
      "  (time_encoding): Linear(in_features=1, out_features=256, bias=True)\n",
      ")\n"
     ]
    },
    {
     "name": "stderr",
     "output_type": "stream",
     "text": [
      "/opt/anaconda3/lib/python3.12/site-packages/torch/nn/init.py:452: UserWarning: Initializing zero-element tensors is a no-op\n",
      "  warnings.warn(\"Initializing zero-element tensors is a no-op\")\n"
     ]
    }
   ],
   "source": [
    "# Define the Mamba Model\n",
    "\n",
    "# Define the Mamba model architecture using the provided Mamba model class\n",
    "device = torch.device(\"cuda\" if torch.cuda.is_available() else \"cpu\")\n",
    "\n",
    "# Initialize the Mamba model with the specified parameters\n",
    "mamba_model = EncoderClassifierMamba(\n",
    "    device=device,\n",
    "    pooling=\"mean\",\n",
    "    num_classes=2,\n",
    "    sensors_count=37,\n",
    "    static_count=8,\n",
    "    layers=3,\n",
    "    d_model=256,\n",
    "    ssm_state_size=64,\n",
    "    expand_factor=1,\n",
    "    dropout=0.2\n",
    ").to(device)\n",
    "\n",
    "# Print the model architecture\n",
    "print(mamba_model)"
   ]
  },
  {
   "cell_type": "markdown",
   "metadata": {},
   "source": [
    "# Train the Mamba Model\n",
    "Train the Mamba model for a few epochs to demonstrate the training process."
   ]
  },
  {
   "cell_type": "code",
   "execution_count": 9,
   "metadata": {},
   "outputs": [],
   "source": [
    "# Train the Mamba Model\n",
    "\n",
    "# Define training parameters\n",
    "output_path = \"./ehr_classification_results/\"\n",
    "epochs = 1  # Train for a few epochs to demonstrate the training process\n",
    "batch_size = 64\n",
    "lr = 0.001\n",
    "patience = 2\n",
    "early_stop_criteria = \"f1-score\"\n",
    "loss_function = \"bce_with_logits\""
   ]
  },
  {
   "cell_type": "code",
   "execution_count": null,
   "metadata": {},
   "outputs": [],
   "source": [
    "\n",
    "\n",
    "# Ensure the output directory exists\n",
    "if not os.path.exists(output_path):\n",
    "    os.makedirs(output_path)\n",
    "\n",
    "# Train the Mamba model\n",
    "loss, accuracy_score, auprc_score, auc_score, f1_score = train_test(\n",
    "    train_pair=train_pair,\n",
    "    val_data=val_data,\n",
    "    test_data=test_data,\n",
    "    output_path=output_path,\n",
    "    model_type=\"mamba\",\n",
    "    model_args={\n",
    "        \"pooling\": \"mean\",\n",
    "        \"layers\": 4,\n",
    "        \"mamba_d_model\": 256,\n",
    "        \"mamba_state_size\": 64,\n",
    "        \"mamba_expand_factor\": 1,\n",
    "        \"dropout\": 0.2\n",
    "    },\n",
    "    batch_size=batch_size,\n",
    "    epochs=epochs,\n",
    "    lr=lr,\n",
    "    patience=patience,\n",
    "    early_stop_criteria=early_stop_criteria,\n",
    "    loss_function=loss_function\n",
    ")\n",
    "\n",
    "# Display the training results\n",
    "print(f\"Training completed with the following results:\")\n",
    "print(f\"Loss: {loss}\")\n",
    "print(f\"Accuracy: {accuracy_score}\")\n",
    "print(f\"AUPRC: {auprc_score}\")\n",
    "print(f\"AUROC: {auc_score}\")\n",
    "print(f\"F1 Score: {f1_score}\")"
   ]
  },
  {
   "cell_type": "markdown",
   "metadata": {},
   "source": [
    "# Evaluate the Mamba Model\n",
    "Evaluate the trained Mamba model on the test dataset and display the results."
   ]
  },
  {
   "cell_type": "code",
   "execution_count": 12,
   "metadata": {},
   "outputs": [
    {
     "name": "stderr",
     "output_type": "stream",
     "text": [
      "  0%|          | 0/19 [00:00<?, ?it/s]"
     ]
    },
    {
     "name": "stderr",
     "output_type": "stream",
     "text": [
      "100%|██████████| 19/19 [01:49<00:00,  5.76s/it]"
     ]
    },
    {
     "name": "stdout",
     "output_type": "stream",
     "text": [
      "Evaluation Results:\n",
      "Accuracy: 0.8390325271059216\n",
      "AUROC: 0.8581359364689285\n",
      "AUPRC: 0.5229090350208284\n",
      "F1 Score: 0.5089058524173028\n"
     ]
    },
    {
     "name": "stderr",
     "output_type": "stream",
     "text": [
      "\n"
     ]
    },
    {
     "data": {
      "image/png": "[encoded data removed]",
      "text/plain": [
       "<Figure size 1000x700 with 1 Axes>"
      ]
     },
     "metadata": {},
     "output_type": "display_data"
    }
   ],
   "source": [
    "# Evaluate the Mamba Model\n",
    "\n",
    "# Load the best model from the training process\n",
    "mamba_model.load_state_dict(torch.load(f\"checkpoint.pt\", map_location=torch.device('cpu')), strict=False)\n",
    "\n",
    "# Set the model to evaluation mode\n",
    "mamba_model.eval()\n",
    "\n",
    "# Create a DataLoader for the test dataset\n",
    "test_dataloader = DataLoader(test_data, batch_size=batch_size, shuffle=False, num_workers=16, collate_fn=MortalityDataset.non_pair_collate_fn_truncate, pin_memory=True)\n",
    "\n",
    "# Initialize lists to store the true labels and predictions\n",
    "true_labels = []\n",
    "predictions = []\n",
    "all_probs = []\n",
    "\n",
    "# Evaluate the model on the test dataset\n",
    "with torch.no_grad():\n",
    "    for batch in tqdm.tqdm(test_dataloader, total=len(test_dataloader)):\n",
    "        data, times, static, labels, mask, delta = batch\n",
    "        data, times, static, mask, delta = data.to(device), times.to(device), static.to(device), mask.to(device), delta.to(device)\n",
    "        \n",
    "        # Get model predictions\n",
    "        outputs = mamba_model(x=data, static=static, time=times, sensor_mask=mask)\n",
    "        probs = torch.nn.functional.softmax(outputs, dim=1)\n",
    "        predicted_labels = torch.argmax(probs, dim=1)\n",
    "        \n",
    "        # Store the true labels, predictions, and probabilities\n",
    "        true_labels.extend(labels.cpu().numpy())\n",
    "        predictions.extend(predicted_labels.cpu().numpy())\n",
    "        all_probs.extend(probs.cpu().numpy())\n",
    "\n",
    "# Convert all_probs to a numpy array\n",
    "all_probs = np.array(all_probs)\n",
    "\n",
    "# Ensure the lengths of true_labels and all_probs match\n",
    "assert len(true_labels) == len(all_probs), f\"Length mismatch: {len(true_labels)} true labels vs {len(all_probs)} probabilities\"\n",
    "\n",
    "\n"
   ]
  },
  {
   "cell_type": "code",
   "execution_count": 14,
   "metadata": {},
   "outputs": [
    {
     "name": "stdout",
     "output_type": "stream",
     "text": [
      "Evaluation Results:\n",
      "Accuracy: 0.8390325271059216\n",
      "AUROC: 0.8581359364689285\n",
      "AUPRC: 0.5229090350208284\n",
      "F1 Score: 0.5089058524173028\n"
     ]
    },
    {
     "data": {
      "image/png": "[encoded data removed]",
      "text/plain": [
       "<Figure size 1000x700 with 2 Axes>"
      ]
     },
     "metadata": {},
     "output_type": "display_data"
    }
   ],
   "source": [
    "import seaborn as sns\n",
    "\n",
    "# Calculate evaluation metrics\n",
    "accuracy = metrics.accuracy_score(true_labels, predictions)\n",
    "auroc = metrics.roc_auc_score(true_labels, all_probs[:, 1])\n",
    "auprc = metrics.average_precision_score(true_labels, all_probs[:, 1])\n",
    "f1 = metrics.f1_score(true_labels, predictions)\n",
    "\n",
    "# Display the evaluation results\n",
    "print(f\"Evaluation Results:\")\n",
    "print(f\"Accuracy: {accuracy}\")\n",
    "print(f\"AUROC: {auroc}\")\n",
    "print(f\"AUPRC: {auprc}\")\n",
    "print(f\"F1 Score: {f1}\")\n",
    "\n",
    "# Plot the confusion matrix\n",
    "confusion_matrix = metrics.confusion_matrix(true_labels, predictions)\n",
    "plt.figure(figsize=(10, 7))\n",
    "sns.heatmap(confusion_matrix, annot=True, fmt='d', cmap='Blues')\n",
    "plt.xlabel(\"Predicted\")\n",
    "plt.ylabel(\"True\")\n",
    "plt.title(\"Confusion Matrix\")\n",
    "plt.show()"
   ]
  }
 ],
 "metadata": {
  "kernelspec": {
   "display_name": ".venv",
   "language": "python",
   "name": "python3"
  },
  "language_info": {
   "codemirror_mode": {
    "name": "ipython",
    "version": 3
   },
   "file_extension": ".py",
   "mimetype": "text/x-python",
   "name": "python",
   "nbconvert_exporter": "python",
   "pygments_lexer": "ipython3",
   "version": "3.9.6"
  }
 },
 "nbformat": 4,
 "nbformat_minor": 2
}
